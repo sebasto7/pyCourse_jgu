{
 "cells": [
  {
   "cell_type": "markdown",
   "metadata": {},
   "source": [
    "# Installation instructions \n",
    "\n",
    "## Contents\n",
    "\n",
    "### [1. Anaconda installation](#Anaconda)\n",
    "\n",
    "### [2. Setting up an **environment** ](#Env)\n"
   ]
  },
  {
   "cell_type": "markdown",
   "metadata": {},
   "source": [
    "<a name=\"Anaconda\"></a>\n",
    "## 1. Anaconda installation\n",
    "### Anaconda is the most convenient way to start and use python for scientists.\n",
    "\n",
    "### [Click and install the \"Python 3.7 version\"](https://www.anaconda.com/distribution/#download-section)\n"
   ]
  },
  {
   "cell_type": "markdown",
   "metadata": {},
   "source": [
    "<a name=\"Env\"></a>\n",
    "## 2. Setting up an environment\n",
    "\n",
    "\n",
    "\n",
    "- Mostly, you will make use of **python packages** in your analysis workflow.\n",
    "- Most python packages are made using other python packages :) And they depend on certain versions of these packages (called **Dependencies**, check the figure below).\n",
    "- Different computers might have different versions of certain packages and even different versions of Python installed.(2.7 or 3.7, for example)\n",
    "    - Thus, your analysis workflow might **fail in a different computer** (figure below).\n",
    "    - Or, two packages ,might have different dependencies and thus might fail in one computer.\n",
    "- To overcome this we can organize packages into **ENVIRONMENTS** which are basically isolated folders in your computer. In an environment you can install the required dependencies of each program separately so they don't mix.\n",
    "<img src=\"Content/Media/environments_bg.png\" style=\"width: 600px\"/>\n",
    "\n",
    "\n",
    "Now that we learned about environments, let's get going with the rest. Now we have two options for using conda:\n",
    "\n",
    "### 2.1. Using the desktop app: [Anaconda Navigator](#Nav)\n",
    "### 2.2. Using the command line: [MAC](#TermMac) - [Windows](#TermWin)\n",
    "\n",
    "\n",
    "\n",
    "\n"
   ]
  },
  {
   "cell_type": "markdown",
   "metadata": {},
   "source": [
    "<a name=\"Nav\"></a>\n",
    "### 2.1. Using Anaconda Navigator (User interface)\n",
    "Open up \"Anaconda Navigator\" (You can search for it in the searchbar).\n",
    "Many applications, including Jupyter notebooks, are availeble in the navigator by default, but you need to install them first.\n",
    "\n",
    "Navigator is an easy, point-and-click way to work with packages and environments without needing to type conda commands in a terminal window. You can use it to find the packages you want, install them in an environment, run the packages, and update them, all inside Navigator.\n",
    "1. In Navigator, click the Environments tab, then click the Create button. The Create new environment dialog box appears.\n",
    "2. In the Environment name field, type a descriptive name for your environment (e.g., python_intro_course_environment), and select Python version 3.7.\n",
    "3. In Navigator, click the Home tab, select your environment at \"Application on\", and click to INSTALL Jypyter Notebook.\n",
    "4. LAUNCH Jupyter Notebook.\n",
    "\n",
    "It should open up a browser which will show you some directories that are located in your computer. Here navigate to the directory where you downloaded our course material.\n",
    "\n",
    "To learn much more,\n",
    "go to: https://docs.anaconda.com/anaconda/navigator/"
   ]
  },
  {
   "cell_type": "markdown",
   "metadata": {},
   "source": [
    "<a name=\"TermMac\"></a>\n",
    "### 2.2. Using the terminal: Mac OS X\n",
    "\n",
    "Open up **\"Terminal\"** (You can search for it in the searchbar). Here we will type commands in order to do some stuff. In this tutorial (also probably in your own terminal) the commands you will write will start with either **\"$\" or \"%\"**. Let's see if conda is installed by writing the following command:\n",
    "\n",
    "*$conda*\n",
    "\n",
    "press Enter and just after your typed command you will see: \n",
    "\n",
    "*'''\n",
    "usage: conda [-h] [-V] command ...\n",
    "conda is a tool for managing and deploying applications, environments and packages.\n",
    "Options:\n",
    "'''*\n",
    "\n",
    "This means that you have successfully installed conda.\n",
    "\n",
    "Now you will type things in the terminal in order to create a new environment and install the required packages in it. Type the following:\n",
    "\n",
    "*$conda create -n python_intro_course_environment*\n",
    "\n",
    "This will create a new environment named \"python_intro_course_environment (name is determined with whatever follows the '-n' within that line of code). We now created the environment but we're not inside yet so let's go in this environment by  typing:\n",
    "\n",
    "*$conda activate python_intro_course_environment*\n",
    "\n",
    "Are we in? We can check it by looking at the leftmost part of the command line. It should show (python_intro_course_environment).\n",
    "\n",
    "Now let's install Jupyter Notebook package. First let's search if there is any package named jupyter. \n",
    "\n",
    "*$conda search jupyter*\n",
    "\n",
    "It will give us a bunch of different jupyter packages but we don't need to worry about which ones to install since conda takes care of that automatically. The command for installing a package with conda is \"install\".\n",
    "\n",
    "*$conda install jupyter*\n",
    "\n",
    "after that we can run jupyter notebook:\n",
    "\n",
    "*$jupyter notebook*\n",
    "\n",
    "It should open up a browser which will show you some directories that are located in your computer. Here navigate to the directory where you downloaded our course material.\n",
    "\n",
    "<a name=\"Env\"></a>\n"
   ]
  },
  {
   "cell_type": "markdown",
   "metadata": {},
   "source": [
    "<a name=\"TermWin\"></a>\n",
    "### 2.3 Using the terminal: Windows "
   ]
  },
  {
   "cell_type": "markdown",
   "metadata": {},
   "source": [
    "\n"
   ]
  }
 ],
 "metadata": {
  "kernelspec": {
   "display_name": "Python 3",
   "language": "python",
   "name": "python3"
  },
  "language_info": {
   "codemirror_mode": {
    "name": "ipython",
    "version": 3
   },
   "file_extension": ".py",
   "mimetype": "text/x-python",
   "name": "python",
   "nbconvert_exporter": "python",
   "pygments_lexer": "ipython3",
   "version": "3.8.1"
  }
 },
 "nbformat": 4,
 "nbformat_minor": 4
}
