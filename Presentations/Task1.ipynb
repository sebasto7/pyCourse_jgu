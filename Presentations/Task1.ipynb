{
 "cells": [
  {
   "cell_type": "markdown",
   "metadata": {},
   "source": [
    "> <font color=green>ACTIVITY ENGAGE</font> : \n",
    "    > 1. Make every student analyze a small larvae tracking dataset manually (using excel)\n",
    "    > 2. Meanwhile students count their timing. <font color=green>Get responses through PINGO and plot</font>\n",
    "    > 3. Afterwards run the pre-made code and observe how fast it achieves the same task. And even generalizes on other datasets.\n",
    "    > 4. Compute the time difference manual vs code.\n",
    "    > 5. Make a simple calculation of Master's thesis duration with 100 experiments.\n",
    "    > 6. Highlight the time saved using coding.\n",
    "    > 7. Highlight what can be done during this time (whatever you want actually)\n",
    "    > 8. Highlight that, in the worst case, they will get this benefit from learning coding and this course. Highlight that there are also other benefits of learning how to code.\n",
    "    "
   ]
  },
  {
   "cell_type": "code",
   "execution_count": null,
   "metadata": {},
   "outputs": [],
   "source": []
  }
 ],
 "metadata": {
  "kernelspec": {
   "display_name": "Python 3",
   "language": "python",
   "name": "python3"
  },
  "language_info": {
   "codemirror_mode": {
    "name": "ipython",
    "version": 3
   },
   "file_extension": ".py",
   "mimetype": "text/x-python",
   "name": "python",
   "nbconvert_exporter": "python",
   "pygments_lexer": "ipython3",
   "version": "3.8.1"
  }
 },
 "nbformat": 4,
 "nbformat_minor": 4
}
