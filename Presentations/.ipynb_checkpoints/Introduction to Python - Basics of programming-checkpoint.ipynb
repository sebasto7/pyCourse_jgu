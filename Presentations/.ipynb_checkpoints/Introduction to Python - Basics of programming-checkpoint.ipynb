{
 "cells": [
  {
   "cell_type": "markdown",
   "metadata": {},
   "source": [
    "# Introduction to Python - Basics of programming\n",
    "\n",
    "In this section we will explore what is programming and why we might want to use it in our work.\n",
    "\n",
    "## Contents\n",
    "\n",
    "### [1. **WHY** we might want to use programming?](#Why)\n",
    "\n",
    "### [2. **WHAT** is programming? ](#What)\n",
    "\n",
    "###  [3. Why **Python**?](#Why_python)\n",
    "\n",
    "###  [4. **Anaconda**: Boost your python](#Anaconda)\n",
    "\n",
    "### [5. **Jupyter Notebook**: A platform for writing and working with Python.](#Jupyter)\n"
   ]
  },
  {
   "cell_type": "markdown",
   "metadata": {},
   "source": [
    "<a name=\"Why\"></a>\n",
    "## 1) Why bother with programming?\n",
    "\n",
    "\n",
    "### - Software availability\n",
    "Sometimes, especially in science where research areas are very specialized, we may have no software (or too expensive software) to analyze our data or do simulations. Programming fills this gap.\n",
    "\n",
    "### - Time: our life's currency\n",
    "<font color=red>**Activity:**</font>  [Let's analyze a small dataset!](../Presentations/Task1.ipynb) (or open Task 1)\n",
    "\n",
    "<img src=\"../Content/Media/time_vs_programming.png\" alt='Drawing' style=\"width: 400px\"/>\n",
    "\n",
    "  \n",
    "**Computers are:**\n",
    "- fast\n",
    "- cheap \n",
    "- very hard-working\n",
    "\n",
    "Do less of the **boring** tasks. Have you ever renamed more than 100 files by hand? We did and we don't want to do it every gain.\n",
    "\n",
    "<img src=\"../Content/Media/automatize_boring_stuff.jpg\">\n",
    "    \n",
    "### - Working with big amounts of data\n",
    "\n",
    "#### Example: Automatically recognizing neurons in calcium imaging (CalmAn Python package)\n",
    "##### Not so big data example: Imagine doing this manually over many datasets... not easy\n",
    "\n",
    "<img src=\"../Content/Media/CalmAn.gif\" style=\"width: 350px\">\n",
    "\n",
    "##### Big data example: This would take a week to analyze manually:\n",
    "\n",
    "<img src=\"../Content/Media/CalmAn2.gif\" style=\"width: 600\">\n",
    "\n",
    "### - Less errors, more reliability, better reproducibility\n",
    "\n",
    "There is a big reproducibility crisis in science. \n",
    "\n",
    "<img src=\"../Content/Media/reproducibility_crisis.jpeg\" style=\"width: 400px\">\n",
    "\n",
    "### - Sharing and collaborating\n",
    "- Developing and using dozens of scientific packages for your own research.\n",
    "\n",
    "This is a python based body part tracker that can be easily downloaded and used with conda:\n",
    "\n",
    "\n",
    "<img src=\"../Content/Media/ezgif-2-eef02f72440c.gif\" style=\"width: 400px\">\n",
    "\n",
    "### - Cost efficient (a lot of free and open-source resources)"
   ]
  },
  {
   "cell_type": "markdown",
   "metadata": {},
   "source": [
    "<a name=\"What\"></a>\n",
    "## 2) What is programming?\n",
    "\n",
    "\n",
    "### \"Talking to the computer\"\n",
    "A way to instruct the computer for performing different tasks. These instructions are sent using a programming langugage (like Python)\n",
    "        1. \"Do this and then do that\"\n",
    "        2. \"Do this a number of times\"\n",
    "        3. \"If this is true, do that\"\n",
    "<img src=\"../Content/Media/Programming_scheme.png\" style=\"width: 500px\">       \n"
   ]
  },
  {
   "cell_type": "markdown",
   "metadata": {},
   "source": [
    "<a name=\"Why_python\"></a>\n",
    "## 3) Why Python? \n",
    "###  - Free to use\n",
    "- Open source\n",
    "- 100% free and many softwares to work with python are also free\n",
    "\n",
    "### - Easy to learn/use and flexible\n",
    "- Easy to install\n",
    "- Very fast coding (not compiled)\n",
    "- Code easy to understand and write\n",
    "\n",
    "#### A simple diagram of how it works:\n",
    "<img src=\"../Content/Media/simple_programming.png\" style=\"width: 400px\">       \n",
    "\n",
    "### - **Hundreds of ready packages** at our disposal\n",
    "- Image and data processing\n",
    "- Data analysis and statistics\n",
    "- Making nice figures for presentations\n",
    "\n",
    "### - **Widely used** both in industry and academia.\n",
    "- Big community for asking help\n",
    "- Finding the solution of your problems is very easy by just googling"
   ]
  },
  {
   "cell_type": "markdown",
   "metadata": {},
   "source": [
    "## Anaconda <a name=\"Anaconda\"></a>\n",
    "\n",
    "<img src=\"../Content/Media/anaconda.png\" style=\"width: 300px\">  \n",
    "### What is it?\n",
    "Anaconda is a python and R distribution (a collection of programs written in python and R). It provides you with almost everything you need for scientific computing.\n",
    "\n",
    "### What does it contain?\n",
    "\n",
    "- The core **Python language**\n",
    "\n",
    "\n",
    "- 100+ Python **\"packages\"** (or **libraries** which are collections of codes that someone wrote for achieving a certain set of tasks)\n",
    "\n",
    "\n",
    "- Apps where you can write and run code. These are called **\"IDE\"s** (Integrated Development Environment). The one we will use is **Jupyter Notebook**.\n",
    "\n",
    "\n",
    "- **conda**, Anaconda's own package manager, used for updating Anaconda and packages. A package manager lets you **download, store and organize** packages very easily. \n",
    "\n",
    "     \n",
    "\n",
    "### Summary: **Anaconda is the most convenient way to start and use python for scientists.**\n"
   ]
  },
  {
   "cell_type": "markdown",
   "metadata": {},
   "source": [
    "## Jupyter Notebook <a name=\"Jupyter\"></a>\n",
    "\n",
    "<img src=\"../Content/Media/jupyter.png\" style=\"width: 200px\">  \n",
    "\n",
    "Jupyter has **text cells** where you can write text for the purposes of writing a code or some content."
   ]
  },
  {
   "cell_type": "markdown",
   "metadata": {},
   "source": [
    "### We can write comments/content like a notebook, in \"markdown\" cells.\n"
   ]
  },
  {
   "cell_type": "markdown",
   "metadata": {},
   "source": [
    "This is a markdown comment."
   ]
  },
  {
   "cell_type": "markdown",
   "metadata": {},
   "source": [
    "### We can write python code, in \"code\" cells. We  can execute it using Shift+Enter while we're inside the cell.\n"
   ]
  },
  {
   "cell_type": "code",
   "execution_count": 10,
   "metadata": {},
   "outputs": [
    {
     "name": "stdout",
     "output_type": "stream",
     "text": [
      "Hello World\n"
     ]
    }
   ],
   "source": [
    "# This is a comment in python code starting with \"#\"\n",
    "print(\"Hello World\") # Printing a text using \"print\" function of python. Text will be printed below"
   ]
  },
  {
   "cell_type": "code",
   "execution_count": 11,
   "metadata": {},
   "outputs": [
    {
     "data": {
      "text/plain": [
       "7"
      ]
     },
     "execution_count": 11,
     "metadata": {},
     "output_type": "execute_result"
    }
   ],
   "source": [
    "# It is possible to use Python as a calculator\n",
    "3+4"
   ]
  },
  {
   "cell_type": "markdown",
   "metadata": {},
   "source": [
    "### Okay then, let's get started:\n",
    "# [Installation instructions for Anaconda and Jupyter notebook](../Installation.html)\n",
    "\n"
   ]
  }
 ],
 "metadata": {
  "kernelspec": {
   "display_name": "Python 3",
   "language": "python",
   "name": "python3"
  },
  "language_info": {
   "codemirror_mode": {
    "name": "ipython",
    "version": 3
   },
   "file_extension": ".py",
   "mimetype": "text/x-python",
   "name": "python",
   "nbconvert_exporter": "python",
   "pygments_lexer": "ipython3",
   "version": "3.8.1"
  }
 },
 "nbformat": 4,
 "nbformat_minor": 2
}
