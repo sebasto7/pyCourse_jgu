{
 "cells": [
  {
   "cell_type": "markdown",
   "metadata": {},
   "source": [
    "# Introduction to Python - Basics of programming\n",
    "\n",
    "In this section we will explore what is programming and why we might want to use it in our work.\n",
    "\n",
    "## <font color=red>**Contents**</font>\n",
    "\n",
    "1. **WHY** we might want to use programming? [Go](#Why)\n",
    "2. **WHAT** is programming? [Go](#What)\n",
    "3. Why **Python**? [Go](#Why_python)\n",
    "4. **Anaconda**: A package manager for python. <br/>So we can easily use and manage all the amazing packages out there for our own research.\n",
    "\n",
    "5. **Jupyter Notebook**: A platform for writing and working with Python.\n",
    "    1. Installation instructions for Anaconda and Jupyter notebook: [Click Here](https://github.com/sebasto7/pyCourse_jgu/blob/master/Installation.md)\n",
    "    \n",
    "6. **Spyder-IDE**: An user-firendly Integrated Development Environment.<br/>It offers a unique combination of: editing, analysis, debugging, data exploration, interactive execution, and data visualization. For an introductory video of its main components [Click Here](https://www.youtube.com/watch?time_continue=293&v=Hf07PmwQwPQ&feature=emb_logo)\n",
    "        \n",
    " \n",
    "\n"
   ]
  },
  {
   "cell_type": "markdown",
   "metadata": {},
   "source": [
    "Some markdown edits\n",
    "https://medium.com/ibm-data-science-experience/markdown-for-jupyter-notebooks-cheatsheet-386c05aeebed"
   ]
  },
  {
   "cell_type": "markdown",
   "metadata": {},
   "source": [
    "<a name=\"Why\"></a>\n",
    "## 1) Why bother with programming?\n",
    "\n",
    "\n",
    "### Time: our life's currency\n",
    "<font color=red>**Activity:**</font>  [Let's analyze a small dataset!](http://localhost:8888/notebooks/Presentations/Task1.ipynb)\n",
    "\n",
    "<img src=\"../Content/Media/time_vs_programming.png\" alt='Drawing' style=\"width: 600px\"/>\n",
    "\n",
    "  \n",
    "**Computers are:**\n",
    "- fast\n",
    "- cheap \n",
    "- very hard-working\n",
    "\n",
    "Do less of the **boring** tasks.\n",
    "\n",
    "<img src=\"../Content/Media/automatize_boring_stuff.jpg\">\n",
    "    \n",
    "### Less errors, more reliability, better reproducibility\n",
    "\n",
    "There is a big reproducibility crisis in science. \n",
    "\n",
    "<img src=\"../Content/Media/reproducibility_crisis.jpeg\" style=\"width: 500px\">\n",
    "\n",
    "### Sharing and collaborating\n",
    "- Developing and using dozens of scientific packages for your own research.\n",
    "\n",
    "This is a python based body part tracker that can be easily downloaded and used with conda:\n",
    "\n",
    "\n",
    "<img src=\"../Content/Media/ezgif-2-eef02f72440c.gif\" style=\"width: 500px\">\n",
    "\n",
    "### Cost efficient (a lot of free and open-source resources)"
   ]
  },
  {
   "cell_type": "markdown",
   "metadata": {},
   "source": [
    "<a name=\"What\"></a>\n",
    "## 2) What is programming?\n",
    "\n",
    "\n",
    "### A way to instruct the computer for performing different tasks.\n",
    "These instructions are sent using a programming langugage (like Python)\n",
    "        1. \"Do this and then do that\"\n",
    "        2. \"Do this a number of times\"\n",
    "        3. \"If this is true, do that\"\n",
    "<img src=\"../Content/Media/Programming_scheme.png\" style=\"width: 500px\">       \n"
   ]
  },
  {
   "cell_type": "markdown",
   "metadata": {},
   "source": [
    "<a name=\"Why_python\"></a>\n",
    "## 3) Why Python? \n",
    "###  - <font color=red> **Free** </font> to use\n",
    "### - <font color=red>**Easy**</font> to use and <font color=red>**flexible**</font>\n",
    "\n",
    "<img src=\"../Content/Media/simple_programming.png\" style=\"width: 400px\">       \n",
    "\n",
    "### **Hundreds of ready packages** at our disposal\n",
    "- Image and data processing\n",
    "- Data analysis and statistics\n",
    "- Making nice figures for presentations\n",
    "### **Widely used** both in industry and academia."
   ]
  },
  {
   "cell_type": "code",
   "execution_count": 1,
   "metadata": {},
   "outputs": [
    {
     "name": "stdout",
     "output_type": "stream",
     "text": [
      "Anne\n"
     ]
    }
   ],
   "source": [
    "print('Anne')"
   ]
  },
  {
   "cell_type": "code",
   "execution_count": null,
   "metadata": {
    "collapsed": true
   },
   "outputs": [],
   "source": []
  },
  {
   "cell_type": "code",
   "execution_count": null,
   "metadata": {
    "collapsed": true
   },
   "outputs": [],
   "source": []
  }
 ],
 "metadata": {
  "kernelspec": {
   "display_name": "Python 3",
   "language": "python",
   "name": "python3"
  },
  "language_info": {
   "codemirror_mode": {
    "name": "ipython",
    "version": 3
   },
   "file_extension": ".py",
   "mimetype": "text/x-python",
   "name": "python",
   "nbconvert_exporter": "python",
   "pygments_lexer": "ipython3",
   "version": "3.6.1"
  }
 },
 "nbformat": 4,
 "nbformat_minor": 2
}
