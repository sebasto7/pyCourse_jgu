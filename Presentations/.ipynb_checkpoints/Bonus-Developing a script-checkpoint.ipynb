{
 "cells": [
  {
   "cell_type": "markdown",
   "metadata": {},
   "source": [
    "# Bonus content: How to effectively develop a script?\n",
    "\n",
    "<font color=orange>**Scientific script development map**</font>\n",
    "\n",
    "1. **DEFINE** your problem. (What is my goal?)\n",
    "\n",
    ">Example: I want to **analyze videos of moving larvae** and determine if ABC-1 knockout has a **deficit in turns**.\n",
    "\n",
    "2. **DESIGN** a solution. (How can I achieve this goal?)\n",
    "    1. Break the problem into pieces.\n",
    "    \n",
    ">**\"analyze videos\"** \n",
    "        >Read video frames and convert them into matrices for analysis. *(read_frames.py)*\n",
    "        \n",
    ">**\"moving larvae\"**\n",
    "        >Find the location of larvae in each frame while keeping individual identities. *(track_larvae.py)*\n",
    "        \n",
    ">**\"deficit in turns\"**\n",
    "        >1. For each larvae, determine the number of turns. *(find_and_count_turns.py)*\n",
    "        >2. Find average turn count per larvae for a single group/genotype. *(average_over_groups.py)*\n",
    "        >3. Statistical tests between different genotypes*(compare_groups.py)*\n",
    "        \n",
    "3. **WRITE** the codes that implement this solution.\n",
    "\n",
    ">**Optional but recommended:** While writing the code, use an example dataset for testing what you've been programming in each step. This way you can avoid future errors and bugs.\n",
    "\n",
    "4. **TEST** on your dataset.\n",
    "\n",
    "5. **DEBUG** if you find errors. (Step 3 again)\n",
    "\n",
    "\n",
    "\n",
    "\n",
    "**BONUS**: The origin of \"bug\" in a code: \"In 1947, engineers working on the Mark II computer at Harvard University found a moth stuck in one of the components. They taped the insect in their logbook and labeled it \"first actual case of bug being found.\" The words \"bug\" and \"debug\" soon became a standard part of the language of computer programmers.\"\n",
    "<img src=\"Media/bug_logbook.jpg\">\n",
    "  "
   ]
  },
  {
   "cell_type": "markdown",
   "metadata": {},
   "source": [
    "\n",
    "\n"
   ]
  },
  {
   "cell_type": "code",
   "execution_count": null,
   "metadata": {},
   "outputs": [],
   "source": []
  }
 ],
 "metadata": {
  "kernelspec": {
   "display_name": "Python 3",
   "language": "python",
   "name": "python3"
  },
  "language_info": {
   "codemirror_mode": {
    "name": "ipython",
    "version": 3
   },
   "file_extension": ".py",
   "mimetype": "text/x-python",
   "name": "python",
   "nbconvert_exporter": "python",
   "pygments_lexer": "ipython3",
   "version": "3.7.3"
  }
 },
 "nbformat": 4,
 "nbformat_minor": 2
}
