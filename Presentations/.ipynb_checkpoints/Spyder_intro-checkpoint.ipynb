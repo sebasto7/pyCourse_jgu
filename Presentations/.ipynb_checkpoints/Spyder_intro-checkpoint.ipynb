{
 "cells": [
  {
   "cell_type": "markdown",
   "metadata": {},
   "source": [
    "### 6. **Spyder-IDE**: An user-firendly Integrated Development Environment.<br/>It offers a unique combination of: editing, analysis, debugging, data exploration, interactive execution, and data visualization. For an introductory video of its main components [Click Here](https://www.youtube.com/watch?time_continue=293&v=Hf07PmwQwPQ&feature=emb_logo)"
   ]
  }
 ],
 "metadata": {
  "kernelspec": {
   "display_name": "Python 3",
   "language": "python",
   "name": "python3"
  },
  "language_info": {
   "codemirror_mode": {
    "name": "ipython",
    "version": 3
   },
   "file_extension": ".py",
   "mimetype": "text/x-python",
   "name": "python",
   "nbconvert_exporter": "python",
   "pygments_lexer": "ipython3",
   "version": "3.8.1"
  }
 },
 "nbformat": 4,
 "nbformat_minor": 4
}
