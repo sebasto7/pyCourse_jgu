{
 "cells": [
  {
   "cell_type": "markdown",
   "metadata": {},
   "source": [
    "# **Python Course for beginners**\n",
    "\n",
    "#### Johannes Gutenberg University of Mainz\n",
    "\n",
    "\n",
    "###### *Authors: Burak Gür, Sebastian Molina*\n"
   ]
  },
  {
   "cell_type": "markdown",
   "metadata": {},
   "source": [
    "Welcome to this course for beginners. In this first document, you will learn the basics of pyton programming."
   ]
  },
  {
   "cell_type": "markdown",
   "metadata": {},
   "source": [
    "# Basics\n",
    "## Jupiter Notebook\n",
    "\n",
    "#### >Insert a brief explanation about what a Jupiter Notebook is<.\n",
    "\n",
    "## Initial advices\n",
    "#### Explain useful concepts to be able to follow the rest of the notebook properely, such as key combinations to execute cells, create or delete them, how  to comment code, etc."
   ]
  },
  {
   "cell_type": "markdown",
   "metadata": {},
   "source": [
    "Inside the code, you can add some comments using the hash character, <span style= \"color:blue\"> #</span>, as follows:"
   ]
  },
  {
   "cell_type": "code",
   "execution_count": 1,
   "metadata": {},
   "outputs": [
    {
     "name": "stdout",
     "output_type": "stream",
     "text": [
      "# I am not a comment because I am inside quotes. I am a string variable\n"
     ]
    }
   ],
   "source": [
    "# this a comment\n",
    "My_age = 30  # and this is the second comment explaining that I am creating a variable\n",
    "          # called My_age!\n",
    "text = \"# I am not a comment because I am inside quotes. I am a string variable\"\n",
    "print (text)"
   ]
  },
  {
   "cell_type": "markdown",
   "metadata": {},
   "source": [
    "## Numbers\n",
    "\n",
    "The interpreter acts as a simple calculator: you can type an expression at it and it will write the value. Expression syntax is straightforward: the operators <span style=\"color:blue\"> +, -, * and /</span>; parentheses <span style= \"color:blue\">(())</span> can be used for grouping. For example:"
   ]
  },
  {
   "cell_type": "code",
   "execution_count": 28,
   "metadata": {},
   "outputs": [
    {
     "data": {
      "text/plain": [
       "4"
      ]
     },
     "execution_count": 28,
     "metadata": {},
     "output_type": "execute_result"
    }
   ],
   "source": [
    "2 + 2"
   ]
  },
  {
   "cell_type": "code",
   "execution_count": 29,
   "metadata": {},
   "outputs": [
    {
     "data": {
      "text/plain": [
       "15"
      ]
     },
     "execution_count": 29,
     "metadata": {},
     "output_type": "execute_result"
    }
   ],
   "source": [
    "45-15*2"
   ]
  },
  {
   "cell_type": "code",
   "execution_count": 45,
   "metadata": {},
   "outputs": [
    {
     "name": "stdout",
     "output_type": "stream",
     "text": [
      "3.3333333333333335\n"
     ]
    }
   ],
   "source": [
    "(40 - 5*6) / 3 # division always returns a floating point number"
   ]
  },
  {
   "cell_type": "markdown",
   "metadata": {},
   "source": [
    "Division <span style=\"color:blue\">(/)</span> always returns a float. To do floor division and get an integer result (discarding any fractional result) you can use the <span style=\"color:blue\">//</span> operator; to calculate the remainder you can use <span style=\"color:blue\">%</span>"
   ]
  },
  {
   "cell_type": "code",
   "execution_count": 46,
   "metadata": {},
   "outputs": [
    {
     "name": "stdout",
     "output_type": "stream",
     "text": [
      "3\n"
     ]
    }
   ],
   "source": [
    "(40 - 5*6) // 3 # floor division discard fractional part"
   ]
  },
  {
   "cell_type": "code",
   "execution_count": 48,
   "metadata": {},
   "outputs": [
    {
     "name": "stdout",
     "output_type": "stream",
     "text": [
      "1\n"
     ]
    }
   ],
   "source": [
    "(40 - 5*6) % 3 # the % operator returns the remainder of the divition"
   ]
  },
  {
   "cell_type": "markdown",
   "metadata": {},
   "source": [
    "The operator <span style=\"color:blue\"> ** </span> is used to calculate powers"
   ]
  },
  {
   "cell_type": "code",
   "execution_count": 50,
   "metadata": {},
   "outputs": [
    {
     "data": {
      "text/plain": [
       "25"
      ]
     },
     "execution_count": 50,
     "metadata": {},
     "output_type": "execute_result"
    }
   ],
   "source": [
    "5 ** 2  # 5 squared"
   ]
  },
  {
   "cell_type": "markdown",
   "metadata": {},
   "source": [
    "With the <span style=\"color:blue\"> = </span> sign you can name variables"
   ]
  },
  {
   "cell_type": "code",
   "execution_count": 4,
   "metadata": {},
   "outputs": [
    {
     "name": "stdout",
     "output_type": "stream",
     "text": [
      "6400\n"
     ]
    }
   ],
   "source": [
    "number_of_ommatidia  = 800 \n",
    "PRs_per_ommatidia = 8 # PRs = photoreceptors\n",
    "number_of_PRs = number_of_ommatidia * PRs_per_ommatidia\n",
    "print (number_of_PRs)"
   ]
  },
  {
   "cell_type": "markdown",
   "metadata": {},
   "source": [
    "In interactive mode, the last printed expression is assigned to the variable<span style=\"color:blue\"> _ </span>. This means that when you are using Python as a desk calculator, it is somewhat easier to continue calculations, for example:"
   ]
  },
  {
   "cell_type": "code",
   "execution_count": 5,
   "metadata": {},
   "outputs": [
    {
     "data": {
      "text/plain": [
       "1600"
      ]
     },
     "execution_count": 5,
     "metadata": {},
     "output_type": "execute_result"
    }
   ],
   "source": [
    "number_of_eyes = 2\n",
    "number_of_eyes * number_of_ommatidia # This is not assigened to any variable"
   ]
  },
  {
   "cell_type": "code",
   "execution_count": 6,
   "metadata": {},
   "outputs": [
    {
     "name": "stdout",
     "output_type": "stream",
     "text": [
      "12800\n"
     ]
    }
   ],
   "source": [
    "total_number_of_PRs = 8 * _ # 8 * 1600, the last executed value\n",
    "print(total_number_of_PRs)"
   ]
  },
  {
   "cell_type": "markdown",
   "metadata": {},
   "source": [
    "*Since <span style=\"color:blue\">_</span> can take any value that was lastly executed, never used it to define a variable as in the previous example*"
   ]
  },
  {
   "cell_type": "markdown",
   "metadata": {},
   "source": [
    "## Strings"
   ]
  },
  {
   "cell_type": "markdown",
   "metadata": {},
   "source": [
    "Strings are written within single quotes <span style=\"color:blue\"> ('...') </span>  or double quotes <span style=\"color:blue\"> (\"...\") </span>. And quotes have a hiarchy. Note the following:"
   ]
  },
  {
   "cell_type": "code",
   "execution_count": 97,
   "metadata": {},
   "outputs": [
    {
     "name": "stdout",
     "output_type": "stream",
     "text": [
      "I don't want to say much\n"
     ]
    }
   ],
   "source": [
    "my_str = \"I don't want to say much\"\n",
    "print (my_str)"
   ]
  },
  {
   "cell_type": "markdown",
   "metadata": {},
   "source": [
    "You can use only single quotes and choose which ones you want to skip using backslash <span style=\"color:blue\"> (\\\\) </span> before it:"
   ]
  },
  {
   "cell_type": "code",
   "execution_count": 98,
   "metadata": {},
   "outputs": [
    {
     "name": "stdout",
     "output_type": "stream",
     "text": [
      "I still don't want to say much\n"
     ]
    }
   ],
   "source": [
    "new_str = 'I still don\\'t want to say much'\n",
    "print (new_str)"
   ]
  },
  {
   "cell_type": "markdown",
   "metadata": {},
   "source": [
    "If your string is too long, you can break it in two lines using backslash <span style=\"color:blue\"> (\\\\) </span> in between:"
   ]
  },
  {
   "cell_type": "code",
   "execution_count": 11,
   "metadata": {},
   "outputs": [
    {
     "name": "stdout",
     "output_type": "stream",
     "text": [
      "Now I want to say a bit more and, therefore, this is a really long line..., but we can write it across multiple lines in the code.\n"
     ]
    }
   ],
   "source": [
    "Long_line = 'Now I want to say a bit more and, therefore,' \\\n",
    "' this is a really long line..., ' \\\n",
    "'but we can write it across multiple lines in the code.'\n",
    "print (Long_line)"
   ]
  },
  {
   "cell_type": "markdown",
   "metadata": {},
   "source": [
    "String literals can span multiple lines. One way is using triple-quotes: <span style=\"color:blue\"> \"\"\"...\"\"\" or '''...''' </span>. End of lines are automatically included in the string, but it’s possible to prevent this by adding a \\ at the end of the line. The following example"
   ]
  },
  {
   "cell_type": "code",
   "execution_count": 12,
   "metadata": {},
   "outputs": [
    {
     "name": "stdout",
     "output_type": "stream",
     "text": [
      "Users: e-mails\n",
      "     seb                 seb123@fake.de\n",
      "     burak               bgur123@fake.de\n",
      "\n"
     ]
    }
   ],
   "source": [
    "print(\"\"\"\\\n",
    "Users: e-mails\n",
    "     seb                 seb123@fake.de\n",
    "     burak               bgur123@fake.de\n",
    "\"\"\")"
   ]
  },
  {
   "cell_type": "markdown",
   "metadata": {},
   "source": [
    "If you don’t want characters prefaced by <span style=\"color:blue\"> (\\\\) </span> to be interpreted as special characters, you can use raw strings by adding an <span style=\"color:blue\"> r </span> before the first quote:"
   ]
  },
  {
   "cell_type": "code",
   "execution_count": 95,
   "metadata": {},
   "outputs": [
    {
     "name": "stdout",
     "output_type": "stream",
     "text": [
      "C:\\some\\path\n",
      "ame\n"
     ]
    }
   ],
   "source": [
    "print('C:\\some\\path\\name')  # here \\n means newline!\n"
   ]
  },
  {
   "cell_type": "code",
   "execution_count": 96,
   "metadata": {},
   "outputs": [
    {
     "name": "stdout",
     "output_type": "stream",
     "text": [
      "C:\\some\\path\\name\n"
     ]
    }
   ],
   "source": [
    "print(r'C:\\some\\path\\name')  # note the r before the quot"
   ]
  },
  {
   "cell_type": "markdown",
   "metadata": {},
   "source": [
    "## Combining strings and numbers"
   ]
  },
  {
   "cell_type": "code",
   "execution_count": 13,
   "metadata": {},
   "outputs": [
    {
     "name": "stdout",
     "output_type": "stream",
     "text": [
      "Option 1: # I am not a comment because I am inside quotes. I am a string variable written by a... 30 years old man\n"
     ]
    }
   ],
   "source": [
    "# You can insert a variable in a string in several ways:\n",
    "\n",
    "My_age = 30  # numerical variable of the class \"double\"\n",
    "text = '# I am not a comment because I am inside quotes. ' \\\n",
    "'I am a string variable written by a... '\n",
    "\n",
    "# First, the \"+\" can concatenate strings\n",
    "# Second, the \"%\" operator, when following a string, allows you to insert values \n",
    "# into that string via format codes (the %d in this case).\n",
    "option_1 = 'Option 1: ' + text + '%d years old man' % My_age \n",
    "print (option_1)\n"
   ]
  },
  {
   "cell_type": "code",
   "execution_count": 14,
   "metadata": {},
   "outputs": [
    {
     "name": "stdout",
     "output_type": "stream",
     "text": [
      "Option 2: # I am not a comment because I am inside quotes. I am a string variable written by a... 30 years old man\n"
     ]
    }
   ],
   "source": [
    "# A better option is to use str.format\n",
    "My_age = 30\n",
    "option = 2\n",
    "# You can use str.format to easily insert more than one variable in your string\n",
    "# at different places, in order.\n",
    "option_2 = 'Option {0}: # I am not a comment because I am inside quotes. ' \\\n",
    "'I am a string variable written by a... {1} years old man'.format(option, My_age)\n",
    "print (option_2)"
   ]
  },
  {
   "cell_type": "markdown",
   "metadata": {},
   "source": [
    "## Indexing ans slicing"
   ]
  },
  {
   "cell_type": "markdown",
   "metadata": {
    "collapsed": true
   },
   "source": [
    "Strings can be indexed using square brakets <span style = \"color:blue\"> [ ] </span>. That means that you can go thorugh the individual positions in the strings (letters or blanks) and print them."
   ]
  },
  {
   "cell_type": "code",
   "execution_count": 15,
   "metadata": {},
   "outputs": [
    {
     "data": {
      "text/plain": [
       "'P'"
      ]
     },
     "execution_count": 15,
     "metadata": {},
     "output_type": "execute_result"
    }
   ],
   "source": [
    "word = 'Patata'\n",
    "word [0] # Indexthe first position in the variable. \n",
    "            #The position numbering starts with \"0\""
   ]
  },
  {
   "cell_type": "code",
   "execution_count": 16,
   "metadata": {},
   "outputs": [
    {
     "data": {
      "text/plain": [
       "'t'"
      ]
     },
     "execution_count": 16,
     "metadata": {},
     "output_type": "execute_result"
    }
   ],
   "source": [
    "word [-1] # last character\n",
    "word[-2] # secod-last character"
   ]
  },
  {
   "cell_type": "markdown",
   "metadata": {},
   "source": [
    "In addition to indexing, slicing is useful to call many position at once, as follows:"
   ]
  },
  {
   "cell_type": "code",
   "execution_count": 17,
   "metadata": {},
   "outputs": [
    {
     "data": {
      "text/plain": [
       "'Pat'"
      ]
     },
     "execution_count": 17,
     "metadata": {},
     "output_type": "execute_result"
    }
   ],
   "source": [
    "word [0:3] # characters from position 0 (included) to 3 (excluded)"
   ]
  },
  {
   "cell_type": "markdown",
   "metadata": {},
   "source": [
    "Note how the start is always included, and the end always excluded. This makes sure that <span style = \"color:blue\"> s[:i] + s[i:] </span> is always equal to <span style = \"color:blue\"> s </span>:"
   ]
  },
  {
   "cell_type": "code",
   "execution_count": 19,
   "metadata": {},
   "outputs": [
    {
     "data": {
      "text/plain": [
       "'Patata'"
      ]
     },
     "execution_count": 19,
     "metadata": {},
     "output_type": "execute_result"
    }
   ],
   "source": [
    "word[:2] + word [2:] \n",
    " # [:2] character from the beginning to position 2 (excluded)\n",
    " # [2:] character from position 2 (included) untill the end"
   ]
  },
  {
   "cell_type": "markdown",
   "metadata": {},
   "source": [
    "Modifying a given charater in a string is not possible. Strings are immutable."
   ]
  },
  {
   "cell_type": "code",
   "execution_count": 22,
   "metadata": {},
   "outputs": [
    {
     "ename": "NameError",
     "evalue": "name 'd' is not defined",
     "output_type": "error",
     "traceback": [
      "\u001b[1;31m---------------------------------------------------------------------------\u001b[0m",
      "\u001b[1;31mNameError\u001b[0m                                 Traceback (most recent call last)",
      "\u001b[1;32m<ipython-input-22-559cc8da129d>\u001b[0m in \u001b[0;36m<module>\u001b[1;34m()\u001b[0m\n\u001b[1;32m----> 1\u001b[1;33m \u001b[0mword\u001b[0m\u001b[1;33m[\u001b[0m\u001b[1;36m4\u001b[0m\u001b[1;33m]\u001b[0m \u001b[1;33m=\u001b[0m \u001b[0md\u001b[0m\u001b[1;33m\u001b[0m\u001b[0m\n\u001b[0m",
      "\u001b[1;31mNameError\u001b[0m: name 'd' is not defined"
     ]
    }
   ],
   "source": [
    "word[4] = d"
   ]
  },
  {
   "cell_type": "markdown",
   "metadata": {},
   "source": [
    "You need to create a new string, as follows:"
   ]
  },
  {
   "cell_type": "code",
   "execution_count": 24,
   "metadata": {},
   "outputs": [
    {
     "data": {
      "text/plain": [
       "'Patada'"
      ]
     },
     "execution_count": 24,
     "metadata": {},
     "output_type": "execute_result"
    }
   ],
   "source": [
    "word[:4] + 'd' + word[5:]"
   ]
  },
  {
   "cell_type": "markdown",
   "metadata": {},
   "source": [
    "A very useful tool is to know the length of a string:"
   ]
  },
  {
   "cell_type": "code",
   "execution_count": 25,
   "metadata": {},
   "outputs": [
    {
     "data": {
      "text/plain": [
       "22"
      ]
     },
     "execution_count": 25,
     "metadata": {},
     "output_type": "execute_result"
    }
   ],
   "source": [
    "long_word = 'Parangaricutirimicuaro'\n",
    "len(long_word)"
   ]
  },
  {
   "cell_type": "markdown",
   "metadata": {},
   "source": [
    "## Lists"
   ]
  },
  {
   "cell_type": "markdown",
   "metadata": {},
   "source": [
    "Python knows a number of compound data types, used to group together other values. The most versatile is the list, which can be written as a list of comma-separated values (items) between square brackets. Lists might contain items of different types, but usually the items all have the same type."
   ]
  },
  {
   "cell_type": "code",
   "execution_count": 68,
   "metadata": {
    "collapsed": true
   },
   "outputs": [],
   "source": [
    "prime_numbers = [1,3,5,7,11,13,15,17,19,23]"
   ]
  },
  {
   "cell_type": "markdown",
   "metadata": {},
   "source": [
    "Indexing and slicing can be applied here also, but more importantly, lists are mutable, meaning that their items can be modified:"
   ]
  },
  {
   "cell_type": "code",
   "execution_count": 69,
   "metadata": {},
   "outputs": [
    {
     "name": "stdout",
     "output_type": "stream",
     "text": [
      "[1, 3, 5, 7, 11, 13, 15, 17, 19, 23]\n"
     ]
    }
   ],
   "source": [
    "my_list = prime_numbers[:6] +  prime_numbers [6:]\n",
    "print(my_list)"
   ]
  },
  {
   "cell_type": "code",
   "execution_count": 70,
   "metadata": {},
   "outputs": [
    {
     "name": "stdout",
     "output_type": "stream",
     "text": [
      "[1, 3, 5, 7, 11, 13, 'X', 17, 19, 23]\n"
     ]
    }
   ],
   "source": [
    "# in \"my_list\", there is a number which is not a prime number.\n",
    "# I want to replace this by \"X\"\n",
    "my_list[6] = 'X'\n",
    "print(my_list)"
   ]
  },
  {
   "cell_type": "markdown",
   "metadata": {},
   "source": [
    "You can also ADD or REMOVE some items in your list."
   ]
  },
  {
   "cell_type": "code",
   "execution_count": 71,
   "metadata": {},
   "outputs": [
    {
     "name": "stdout",
     "output_type": "stream",
     "text": [
      "[1, 3, 5, 7, 11, 13, 15, 17, 19, 23]\n",
      "[1, 3, 5, 7, 11, 13, 'X', 17, 19, 23, 29]\n"
     ]
    }
   ],
   "source": [
    "my_init_list = prime_numbers\n",
    "my_list.append (29) # Adding an item in the list\n",
    "print (my_init_list)\n",
    "print (my_list)\n"
   ]
  },
  {
   "cell_type": "code",
   "execution_count": 72,
   "metadata": {},
   "outputs": [
    {
     "name": "stdout",
     "output_type": "stream",
     "text": [
      "[1, 3, 5, 7, 11, 13, 17, 19, 23, 29]\n"
     ]
    }
   ],
   "source": [
    "my_list [6:7] = [] # Removing an item in the list\n",
    "print (my_list)"
   ]
  },
  {
   "cell_type": "markdown",
   "metadata": {},
   "source": [
    "You can also nest lists (create lists containing other lists)"
   ]
  },
  {
   "cell_type": "code",
   "execution_count": 76,
   "metadata": {},
   "outputs": [
    {
     "name": "stdout",
     "output_type": "stream",
     "text": [
      "[['K', 'A', 'L', 'I'], ['R', 'U', 'F', 'O']]\n"
     ]
    }
   ],
   "source": [
    "cat = ['K','A','L','I']\n",
    "dog = ['R','U','F','O']\n",
    "cat_and_dog = [cat, dog]\n",
    "print(cat_and_dog)"
   ]
  },
  {
   "cell_type": "code",
   "execution_count": null,
   "metadata": {
    "collapsed": true
   },
   "outputs": [],
   "source": []
  }
 ],
 "metadata": {
  "kernelspec": {
   "display_name": "Python 3",
   "language": "python",
   "name": "python3"
  },
  "language_info": {
   "codemirror_mode": {
    "name": "ipython",
    "version": 3
   },
   "file_extension": ".py",
   "mimetype": "text/x-python",
   "name": "python",
   "nbconvert_exporter": "python",
   "pygments_lexer": "ipython3",
   "version": "3.6.1"
  }
 },
 "nbformat": 4,
 "nbformat_minor": 2
}
