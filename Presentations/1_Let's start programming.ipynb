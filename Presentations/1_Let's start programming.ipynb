{
 "cells": [
  {
   "cell_type": "markdown",
   "metadata": {},
   "source": [
    "# Let's start programming\n",
    "\n",
    "In this section we will explore what is programming and why we might want to use it in our work.\n",
    "\n",
    "## Contents: Basics of Python programming\n",
    "\n",
    "### [0. Working with the Jupyter notebook](#Jupyter)\n",
    "\n",
    "### [1. Basics of Python ](#Basics)\n"
   ]
  },
  {
   "cell_type": "markdown",
   "metadata": {},
   "source": [
    "<a name=\"Jupyter\"></a>\n",
    "## 0. Working with the Jupyter notebook\n",
    "<img src=\"../Content/Media/jupyter.png\" style=\"width: 100px\">  \n",
    "\n",
    "- This document is a Jupyter Notebook file (with file extension .ipynb).\n",
    "\n",
    "### Jupyter has \"cells\" (sections of text)\n",
    "Jupyter notebook allows us to write nicely organized text along with sequential codes inside sections. These sections are called **\"cells\"**\n",
    "\n",
    "### Jupyter has 2 types of cells: \n",
    "- **MARKDOWN**\n",
    "    - Used to write formatted text (headings, subheadings, images etc.)\n",
    "- **CODE**\n",
    "    - Used to write executable code.\n",
    "    - Look for -> \"In [ ] \" before the cells\n",
    "    \n",
    "### Jupyter has 2 types of modes: \n",
    "- **EDIT**\n",
    "    - press **ENTER** or double click **inside** the cell\n",
    "    - For writing inside the cells \n",
    "    - Cell border becomes **<font color=green>GREEN:</font>**\n",
    "- **COMMAND**\n",
    "    - press **ESC** or click **next** to the cell\n",
    "    - Used to edit blocks of cells\n",
    "    - Cell border becomes **<font color=blue>BLUE:</font>**\n",
    "\n",
    "### Press Shift + ENTER to execute a code cell and activate a markdown cell"
   ]
  },
  {
   "cell_type": "markdown",
   "metadata": {},
   "source": [
    "## This is a **MARKDOWN** cell, double click to investigate contents\n",
    "\n",
    "Headings start with \"#\", number of # indicates heading level (subheadings)\n",
    "\n",
    "shift+ENTER to activate the cell again."
   ]
  },
  {
   "cell_type": "markdown",
   "metadata": {},
   "source": [
    "## Below is a CODE cell"
   ]
  },
  {
   "cell_type": "code",
   "execution_count": 8,
   "metadata": {},
   "outputs": [
    {
     "data": {
      "text/plain": [
       "2"
      ]
     },
     "execution_count": 8,
     "metadata": {},
     "output_type": "execute_result"
    }
   ],
   "source": [
    "# A code cell\n",
    "# This is a comment in python code starting with \"#\"\n",
    "\n",
    "1+1 # This is a python statement (a complete line of code that does an action)"
   ]
  },
  {
   "cell_type": "markdown",
   "metadata": {},
   "source": [
    "<a name=\"Basics\"></a>\n",
    "## 1. Basics of Python\n",
    "\n",
    "### Overview:\n",
    "#### - [Python as a calculator](#calculator)\n",
    "#### - [Variables](#var)\n",
    "#### - [Errors](#err)\n",
    "#### - [Data types](#calculator)\n"
   ]
  },
  {
   "cell_type": "markdown",
   "metadata": {},
   "source": [
    "<a name=\"calculator\"></a>\n"
   ]
  },
  {
   "cell_type": "code",
   "execution_count": null,
   "metadata": {},
   "outputs": [],
   "source": []
  },
  {
   "cell_type": "code",
   "execution_count": null,
   "metadata": {},
   "outputs": [],
   "source": []
  }
 ],
 "metadata": {
  "kernelspec": {
   "display_name": "Python 3",
   "language": "python",
   "name": "python3"
  },
  "language_info": {
   "codemirror_mode": {
    "name": "ipython",
    "version": 3
   },
   "file_extension": ".py",
   "mimetype": "text/x-python",
   "name": "python",
   "nbconvert_exporter": "python",
   "pygments_lexer": "ipython3",
   "version": "3.8.1"
  }
 },
 "nbformat": 4,
 "nbformat_minor": 4
}
