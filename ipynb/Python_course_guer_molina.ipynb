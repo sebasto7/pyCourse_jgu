{
 "cells": [
  {
   "cell_type": "markdown",
   "metadata": {},
   "source": [
    "# **Python Course for beginners**\n",
    "\n",
    "#### Johannes Gutenberg University of Mainz\n",
    "\n",
    "\n",
    "###### *Authors: Burak Gür, Sebastian Molina*\n"
   ]
  },
  {
   "cell_type": "markdown",
   "metadata": {},
   "source": [
    "Welcome to this course for beginners. In this first document, you will learn the basics of pyton programming."
   ]
  },
  {
   "cell_type": "markdown",
   "metadata": {},
   "source": [
    "# Basics\n",
    "## Jupiter Notebook\n",
    "\n",
    "#### >Insert a brief explanation about what a Jupiter Notebook is<.\n",
    "\n",
    "## Initial advices\n",
    "#### Explain useful concepts to be able to follow the rest of the notebook properely, such as key combinations to execute cells, create or delete them, how  to comment code, etc."
   ]
  },
  {
   "cell_type": "markdown",
   "metadata": {},
   "source": [
    "Inside the code, you can add some comments using the hash character, <span style= \"color:blue\"> #</span>, as follows:"
   ]
  },
  {
   "cell_type": "code",
   "execution_count": 64,
   "metadata": {},
   "outputs": [
    {
     "name": "stdout",
     "output_type": "stream",
     "text": [
      "# I am not a comment because I am inside quotes. I am a string variable written by a man\n"
     ]
    }
   ],
   "source": [
    "# this a comment\n",
    "My_age = 30  # and this is the second comment explaining that I am creating a variable\n",
    "          # called My_age!\n",
    "text = \"# I am not a comment because I am inside quotes. I am a string variable written by a man\"\n",
    "print (text)"
   ]
  },
  {
   "cell_type": "markdown",
   "metadata": {},
   "source": [
    "## Numbers\n",
    "\n",
    "The interpreter acts as a simple calculator: you can type an expression at it and it will write the value. Expression syntax is straightforward: the operators <span style=\"color:blue\"> +, -, * and /</span> work just like in most other languages (for example, Pascal or C); parentheses <span style= \"color:blue\">(())</span> can be used for grouping. For example:"
   ]
  },
  {
   "cell_type": "code",
   "execution_count": 28,
   "metadata": {},
   "outputs": [
    {
     "data": {
      "text/plain": [
       "4"
      ]
     },
     "execution_count": 28,
     "metadata": {},
     "output_type": "execute_result"
    }
   ],
   "source": [
    "2 + 2"
   ]
  },
  {
   "cell_type": "code",
   "execution_count": 29,
   "metadata": {},
   "outputs": [
    {
     "data": {
      "text/plain": [
       "15"
      ]
     },
     "execution_count": 29,
     "metadata": {},
     "output_type": "execute_result"
    }
   ],
   "source": [
    "45-15*2"
   ]
  },
  {
   "cell_type": "code",
   "execution_count": 45,
   "metadata": {},
   "outputs": [
    {
     "name": "stdout",
     "output_type": "stream",
     "text": [
      "3.3333333333333335\n"
     ]
    }
   ],
   "source": [
    "(40 - 5*6) / 3 # division always returns a floating point number"
   ]
  },
  {
   "cell_type": "markdown",
   "metadata": {},
   "source": [
    "Division <span style=\"color:blue\">(/)</span> always returns a float. To do floor division and get an integer result (discarding any fractional result) you can use the <span style=\"color:blue\">//</span> operator; to calculate the remainder you can use <span style=\"color:blue\">%</span>"
   ]
  },
  {
   "cell_type": "code",
   "execution_count": 46,
   "metadata": {},
   "outputs": [
    {
     "name": "stdout",
     "output_type": "stream",
     "text": [
      "3\n"
     ]
    }
   ],
   "source": [
    "(40 - 5*6) // 3 # floor division discard fractional part"
   ]
  },
  {
   "cell_type": "code",
   "execution_count": 48,
   "metadata": {},
   "outputs": [
    {
     "name": "stdout",
     "output_type": "stream",
     "text": [
      "1\n"
     ]
    }
   ],
   "source": [
    "(40 - 5*6) % 3 # the % operator returns the remainder of the divition"
   ]
  },
  {
   "cell_type": "markdown",
   "metadata": {},
   "source": [
    "The operator <span style=\"color:blue\"> ** </span> is used to calculate powers"
   ]
  },
  {
   "cell_type": "code",
   "execution_count": 50,
   "metadata": {},
   "outputs": [
    {
     "data": {
      "text/plain": [
       "25"
      ]
     },
     "execution_count": 50,
     "metadata": {},
     "output_type": "execute_result"
    }
   ],
   "source": [
    "5 ** 2  # 5 squared"
   ]
  },
  {
   "cell_type": "markdown",
   "metadata": {},
   "source": [
    "With the <span style=\"color:blue\"> = </span> sign you can name variables"
   ]
  },
  {
   "cell_type": "code",
   "execution_count": 54,
   "metadata": {},
   "outputs": [
    {
     "name": "stdout",
     "output_type": "stream",
     "text": [
      "6400\n"
     ]
    }
   ],
   "source": [
    "number_of_ommatidia  = 800\n",
    "PRs_per_ommatidia = 8\n",
    "number_of_PRs = number_of_ommatidia * PRs_per_ommatidia\n",
    "print (number_of_PRs)"
   ]
  },
  {
   "cell_type": "markdown",
   "metadata": {},
   "source": [
    "In interactive mode, the last printed expression is assigned to the variable<span style=\"color:blue\">_</span>. This means that when you are using Python as a desk calculator, it is somewhat easier to continue calculations, for example:"
   ]
  },
  {
   "cell_type": "code",
   "execution_count": 59,
   "metadata": {},
   "outputs": [
    {
     "data": {
      "text/plain": [
       "1600"
      ]
     },
     "execution_count": 59,
     "metadata": {},
     "output_type": "execute_result"
    }
   ],
   "source": [
    "number_of_eyes = 2\n",
    "number_of_eyes * number_of_ommatidia # This is not assigened to any variable"
   ]
  },
  {
   "cell_type": "code",
   "execution_count": 63,
   "metadata": {},
   "outputs": [
    {
     "name": "stdout",
     "output_type": "stream",
     "text": [
      "12800\n"
     ]
    }
   ],
   "source": [
    "total_number_of_PRs = 8 * _ # 8 * 1600, the last executed value\n",
    "print(total_number_of_PRs)"
   ]
  },
  {
   "cell_type": "markdown",
   "metadata": {},
   "source": [
    "*Since <span style=\"color:blue\">_</span> can take any value that was lastly executed, never used it to define variable as in the previous example*"
   ]
  },
  {
   "cell_type": "markdown",
   "metadata": {},
   "source": [
    "## Strings"
   ]
  },
  {
   "cell_type": "markdown",
   "metadata": {},
   "source": [
    "Strings are written within single quotes <span style=\"color:blue\"> ('...') </span>  or double quotes <span style=\"color:blue\"> (\"...\") </span>. And quotes have a hiarchy. Note the following:"
   ]
  },
  {
   "cell_type": "code",
   "execution_count": 97,
   "metadata": {},
   "outputs": [
    {
     "name": "stdout",
     "output_type": "stream",
     "text": [
      "I don't want to say much\n"
     ]
    }
   ],
   "source": [
    "my_str = \"I don't want to say much\"\n",
    "print (my_str)"
   ]
  },
  {
   "cell_type": "markdown",
   "metadata": {},
   "source": [
    "You can use only single quotes and choose which ones you want to skip using backslash <span style=\"color:blue\"> (\\\\) </span> before it:"
   ]
  },
  {
   "cell_type": "code",
   "execution_count": 98,
   "metadata": {},
   "outputs": [
    {
     "name": "stdout",
     "output_type": "stream",
     "text": [
      "I still don't want to say much\n"
     ]
    }
   ],
   "source": [
    "new_str = 'I still don\\'t want to say much'\n",
    "print (new_str)"
   ]
  },
  {
   "cell_type": "markdown",
   "metadata": {},
   "source": [
    "If your string is too long, you can break it in two lines using backslash <span style=\"color:blue\"> (\\\\) </span> in between:"
   ]
  },
  {
   "cell_type": "code",
   "execution_count": 93,
   "metadata": {},
   "outputs": [
    {
     "name": "stdout",
     "output_type": "stream",
     "text": [
      "This is a really long line, but we can write it across multiple lines.\n"
     ]
    }
   ],
   "source": [
    "Long_line = 'This is a really long line, ' \\\n",
    "    'but we can write it across multiple lines.'\n",
    "print (Long_line)"
   ]
  },
  {
   "cell_type": "markdown",
   "metadata": {},
   "source": [
    "String literals can span multiple lines. One way is using triple-quotes: <span style=\"color:blue\"> \"\"\"...\"\"\" or '''...''' </span>. End of lines are automatically included in the string, but it’s possible to prevent this by adding a \\ at the end of the line. The following example"
   ]
  },
  {
   "cell_type": "code",
   "execution_count": 107,
   "metadata": {},
   "outputs": [
    {
     "name": "stdout",
     "output_type": "stream",
     "text": [
      "Users: e-mails\n",
      "     seb                 seb123@fake.de\n",
      "     burak               bgur123@fake.de\n",
      "\n"
     ]
    }
   ],
   "source": [
    "print(\"\"\"\\\n",
    "Users: e-mails\n",
    "     seb                 seb123@fake.de\n",
    "     burak               bgur123@fake.de\n",
    "\"\"\")"
   ]
  },
  {
   "cell_type": "markdown",
   "metadata": {},
   "source": [
    "If you don’t want characters prefaced by <span style=\"color:blue\"> (\\\\) </span> to be interpreted as special characters, you can use raw strings by adding an <span style=\"color:blue\"> r </span> before the first quote:"
   ]
  },
  {
   "cell_type": "code",
   "execution_count": 95,
   "metadata": {},
   "outputs": [
    {
     "name": "stdout",
     "output_type": "stream",
     "text": [
      "C:\\some\\path\n",
      "ame\n"
     ]
    }
   ],
   "source": [
    "print('C:\\some\\path\\name')  # here \\n means newline!\n"
   ]
  },
  {
   "cell_type": "code",
   "execution_count": 96,
   "metadata": {},
   "outputs": [
    {
     "name": "stdout",
     "output_type": "stream",
     "text": [
      "C:\\some\\path\\name\n"
     ]
    }
   ],
   "source": [
    "print(r'C:\\some\\path\\name')  # note the r before the quot"
   ]
  },
  {
   "cell_type": "markdown",
   "metadata": {},
   "source": [
    "## Combining strings and numbers"
   ]
  },
  {
   "cell_type": "code",
   "execution_count": 88,
   "metadata": {},
   "outputs": [
    {
     "name": "stdout",
     "output_type": "stream",
     "text": [
      "Option 1: # I am not a comment because I am inside quotes. I am a string variable written by a ...30 years old man\n"
     ]
    }
   ],
   "source": [
    "# You can insert a variable in a string in several ways:\n",
    "\n",
    "My_age = 30  # numerical variable of the class \"double\"\n",
    "text = '# I am not a comment because I am inside quotes. ' \\\n",
    "'I am a string variable written by a... '\n",
    "\n",
    "# First, the \"+\" can concatenate strings\n",
    "# Second, the \"%\" operator, when following a string, allows you to insert values \n",
    "# into that string via format codes (the %d in this case).\n",
    "option_1 = 'Option 1: ' + text + '%d years old man' % My_age \n",
    "print (option_1)\n"
   ]
  },
  {
   "cell_type": "code",
   "execution_count": 92,
   "metadata": {},
   "outputs": [
    {
     "name": "stdout",
     "output_type": "stream",
     "text": [
      "Option 2: # I am not a comment because I am inside quotes. I am a string variable written by a... 30 years old man\n"
     ]
    }
   ],
   "source": [
    "# A better option is to use str.format\n",
    "My_age = 30\n",
    "option = 2\n",
    "# You can use str.format to easily insert more than one variable in your string\n",
    "# at different places, in order.\n",
    "option_2 = 'Option {0}: # I am not a comment because I am inside quotes. ' \\\n",
    "'I am a string variable written by a... {1} years old man'.format(option, My_age)\n",
    "print (option_2)"
   ]
  },
  {
   "cell_type": "markdown",
   "metadata": {},
   "source": [
    "## Indexing"
   ]
  },
  {
   "cell_type": "code",
   "execution_count": null,
   "metadata": {
    "collapsed": true
   },
   "outputs": [],
   "source": []
  }
 ],
 "metadata": {
  "kernelspec": {
   "display_name": "Python 3",
   "language": "python",
   "name": "python3"
  },
  "language_info": {
   "codemirror_mode": {
    "name": "ipython",
    "version": 3
   },
   "file_extension": ".py",
   "mimetype": "text/x-python",
   "name": "python",
   "nbconvert_exporter": "python",
   "pygments_lexer": "ipython3",
   "version": "3.6.1"
  }
 },
 "nbformat": 4,
 "nbformat_minor": 2
}
